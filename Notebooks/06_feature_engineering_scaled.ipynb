{
 "cells": [
  {
   "cell_type": "markdown",
   "id": "intro-scaling",
   "metadata": {},
   "source": [
    "## ⚙️ Step 6: Feature Engineering and Scaling for LSTM & SVM"
   ]
  },
  {
   "cell_type": "code",
   "execution_count": 1,
   "id": "imports",
   "metadata": {},
   "outputs": [],
   "source": [
    "import pandas as pd\n",
    "import numpy as np\n",
    "from sklearn.preprocessing import MinMaxScaler\n",
    "import pickle"
   ]
  },
  {
   "cell_type": "markdown",
   "id": "load-data",
   "metadata": {},
   "source": [
    "## 📥 Load cleaned dataset"
   ]
  },
  {
   "cell_type": "code",
   "execution_count": 2,
   "id": "load-dataset",
   "metadata": {},
   "outputs": [],
   "source": [
    "df = pd.read_csv('../Datasets/cleaned_powerconsumption.csv', parse_dates=['Datetime'], index_col='Datetime')"
   ]
  },
  {
   "cell_type": "markdown",
   "id": "lag-features",
   "metadata": {},
   "source": [
    "## ⏮️ Create lag features for LSTM/SVM"
   ]
  },
  {
   "cell_type": "code",
   "execution_count": 3,
   "id": "create-lags",
   "metadata": {},
   "outputs": [],
   "source": [
    "df['lag_1'] = df['Total_PowerConsumption'].shift(1)\n",
    "df['lag_2'] = df['Total_PowerConsumption'].shift(2)\n",
    "df['lag_24'] = df['Total_PowerConsumption'].shift(144)\n",
    "df.dropna(inplace=True)"
   ]
  },
  {
   "cell_type": "markdown",
   "id": "features-target",
   "metadata": {},
   "source": [
    "## 🧠 Define Features & Target"
   ]
  },
  {
   "cell_type": "code",
   "execution_count": 4,
   "id": "define-x-y",
   "metadata": {},
   "outputs": [],
   "source": [
    "features = ['Temperature', 'Humidity', 'WindSpeed', 'hour', 'dayofweek', 'is_weekend', 'lag_1', 'lag_2', 'lag_24']\n",
    "X = df[features]\n",
    "y = df['Total_PowerConsumption']"
   ]
  },
  {
   "cell_type": "markdown",
   "id": "scale-data",
   "metadata": {},
   "source": [
    "## 🔄 Scale Features and Target using MinMaxScaler"
   ]
  },
  {
   "cell_type": "code",
   "execution_count": 5,
   "id": "scale-features",
   "metadata": {},
   "outputs": [],
   "source": [
    "x_scaler = MinMaxScaler()\n",
    "y_scaler = MinMaxScaler()\n",
    "\n",
    "X_scaled = x_scaler.fit_transform(X)\n",
    "y_scaled = y_scaler.fit_transform(y.values.reshape(-1, 1))"
   ]
  },
  {
   "cell_type": "markdown",
   "id": "save-scalers",
   "metadata": {},
   "source": [
    "## 💾 Save Scalers for later use (inverse transform)"
   ]
  },
  {
   "cell_type": "code",
   "execution_count": 8,
   "id": "save-pkl",
   "metadata": {},
   "outputs": [],
   "source": [
    "with open('../Scaler/x_scaler.pkl', 'wb') as f:\n",
    "    pickle.dump(x_scaler, f)\n",
    "with open('../Scaler/y_scaler.pkl', 'wb') as f:\n",
    "    pickle.dump(y_scaler, f)"
   ]
  },
  {
   "cell_type": "markdown",
   "id": "save-dataset",
   "metadata": {},
   "source": [
    "## 🗃️ Save Scaled Dataset"
   ]
  },
  {
   "cell_type": "code",
   "execution_count": 9,
   "id": "save-arrays",
   "metadata": {},
   "outputs": [],
   "source": [
    "np.save('../Datasets/X_scaled.npy', X_scaled)\n",
    "np.save('../Datasets/y_scaled.npy', y_scaled)"
   ]
  },
  {
   "cell_type": "markdown",
   "id": "preview",
   "metadata": {},
   "source": [
    "## ✅ Preview scaled data"
   ]
  },
  {
   "cell_type": "code",
   "execution_count": null,
   "id": "preview-data",
   "metadata": {},
   "outputs": [
    {
     "name": "stdout",
     "output_type": "stream",
     "text": [
      "X_scaled shape: (52272, 9)\n",
      "y_scaled shape: (52272, 1)\n",
      "First row of X_scaled: [0.2111634  0.77234603 0.00404166 0.         0.         0.\n",
      " 0.29060167 0.31184301 0.34530305]\n"
     ]
    },
    {
     "ename": "",
     "evalue": "",
     "output_type": "error",
     "traceback": [
      "\u001b[1;31mThe Kernel crashed while executing code in the current cell or a previous cell. \n",
      "\u001b[1;31mPlease review the code in the cell(s) to identify a possible cause of the failure. \n",
      "\u001b[1;31mClick <a href='https://aka.ms/vscodeJupyterKernelCrash'>here</a> for more info. \n",
      "\u001b[1;31mView Jupyter <a href='command:jupyter.viewOutput'>log</a> for further details."
     ]
    }
   ],
   "source": [
    "print(\"X_scaled shape:\", X_scaled.shape)\n",
    "print(\"y_scaled shape:\", y_scaled.shape)\n",
    "print(\"First row of X_scaled:\", X_scaled[0])"
   ]
  }
 ],
 "metadata": {
  "kernelspec": {
   "display_name": "Python 3",
   "language": "python",
   "name": "python3"
  },
  "language_info": {
   "codemirror_mode": {
    "name": "ipython",
    "version": 3
   },
   "file_extension": ".py",
   "mimetype": "text/x-python",
   "name": "python",
   "nbconvert_exporter": "python",
   "pygments_lexer": "ipython3",
   "version": "3.13.3"
  }
 },
 "nbformat": 4,
 "nbformat_minor": 5
}
